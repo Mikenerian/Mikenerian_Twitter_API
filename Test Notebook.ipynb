{
 "cells": [
  {
   "cell_type": "markdown",
   "metadata": {},
   "source": [
    "# Test Notebook"
   ]
  },
  {
   "cell_type": "code",
   "execution_count": 1,
   "metadata": {},
   "outputs": [],
   "source": [
    "CONSUMER_KEY = 'XReVyVCIk98dgZuuK19WgXohM'\n",
    "CONSUMER_SECRET = 'KFLbcMYrYRLCSzY4J5OufWPVnS8YK57Id13oapIVtjsbX1vaHi'\n",
    "ACCESS_TOKEN = '1085200342516563969-MgOcL2K9QZF3FmMgwhmADyzS3pwgyo'\n",
    "ACCESS_SECRET = 'uWfIzUAYkbOv3UPlbYrzVdACZX70la4GVovbkrOnKxFdb'"
   ]
  },
  {
   "cell_type": "code",
   "execution_count": 2,
   "metadata": {},
   "outputs": [],
   "source": [
    "import tweepy\n",
    "import csv\n",
    "import settings"
   ]
  },
  {
   "cell_type": "code",
   "execution_count": 3,
   "metadata": {},
   "outputs": [],
   "source": [
    "auth = tweepy.OAuthHandler(CONSUMER_KEY, CONSUMER_SECRET)\n",
    "auth.set_access_token(ACCESS_TOKEN, ACCESS_SECRET)\n",
    "api = tweepy.API(auth)"
   ]
  },
  {
   "cell_type": "code",
   "execution_count": 4,
   "metadata": {},
   "outputs": [],
   "source": [
    "num_friends = api.me().friends_count - 1\n",
    "# API制限に引っかからないための処理。そのうちtime.sleepとかで全部取得できるようにしたい\n",
    "if num_friends > 50:\n",
    "  num_friends = 50\n",
    "\n",
    "screen_names = []\n",
    "user_names = []\n",
    "max_fav_tweets = []\n",
    "max_fav_favs = []"
   ]
  },
  {
   "cell_type": "code",
   "execution_count": 8,
   "metadata": {},
   "outputs": [
    {
     "data": {
      "text/plain": [
       "50"
      ]
     },
     "execution_count": 8,
     "metadata": {},
     "output_type": "execute_result"
    }
   ],
   "source": [
    "num_friends"
   ]
  },
  {
   "cell_type": "code",
   "execution_count": 5,
   "metadata": {},
   "outputs": [],
   "source": [
    "for user in api.friends(count=num_friends):\n",
    "  screen_names.append(user.screen_name)\n",
    "  user_names.append(user.name)"
   ]
  },
  {
   "cell_type": "code",
   "execution_count": 10,
   "metadata": {
    "scrolled": false
   },
   "outputs": [
    {
     "data": {
      "text/plain": [
       "User(_api=<tweepy.api.API object at 0x7fd87fbd7f50>, _json={'id': 50461469, 'id_str': '50461469', 'name': '夏野 剛 Takeshi Natsuno', 'screen_name': 'tnatsu', 'location': '', 'description': '夏野剛です。早稲田出身なのに慶應SFCの特別招聘教授やってます。意図せず波瀾万丈な人生をおくることになってしまいました。少しでも世の中がよくなるようなことしたいと思ってます。よろしくお願い致します。', 'url': 'http://t.co/089wESUCvF', 'entities': {'url': {'urls': [{'url': 'http://t.co/089wESUCvF', 'expanded_url': 'http://ch.nicovideo.jp/natsuno', 'display_url': 'ch.nicovideo.jp/natsuno', 'indices': [0, 22]}]}, 'description': {'urls': []}}, 'protected': False, 'followers_count': 509793, 'friends_count': 91, 'listed_count': 8007, 'created_at': 'Wed Jun 24 22:21:40 +0000 2009', 'favourites_count': 4, 'utc_offset': None, 'time_zone': None, 'geo_enabled': True, 'verified': True, 'statuses_count': 19827, 'lang': None, 'status': {'created_at': 'Mon Oct 12 11:01:40 +0000 2020', 'id': 1315608568754655232, 'id_str': '1315608568754655232', 'text': '全員慶應じゃんwww。 https://t.co/xHxG5NyWdD', 'truncated': False, 'entities': {'hashtags': [], 'symbols': [], 'user_mentions': [], 'urls': [{'url': 'https://t.co/xHxG5NyWdD', 'expanded_url': 'https://twitter.com/chairtochair/status/1314884319886761991', 'display_url': 'twitter.com/chairtochair/s…', 'indices': [12, 35]}]}, 'source': '<a href=\"http://www.echofon.com/\" rel=\"nofollow\">Echofon</a>', 'in_reply_to_status_id': None, 'in_reply_to_status_id_str': None, 'in_reply_to_user_id': None, 'in_reply_to_user_id_str': None, 'in_reply_to_screen_name': None, 'geo': None, 'coordinates': None, 'place': None, 'contributors': None, 'is_quote_status': True, 'quoted_status_id': 1314869532700229632, 'quoted_status_id_str': '1314869532700229632', 'retweet_count': 16, 'favorite_count': 101, 'favorited': False, 'retweeted': False, 'possibly_sensitive': False, 'lang': 'ja'}, 'contributors_enabled': False, 'is_translator': False, 'is_translation_enabled': False, 'profile_background_color': 'C0DEED', 'profile_background_image_url': 'http://abs.twimg.com/images/themes/theme1/bg.png', 'profile_background_image_url_https': 'https://abs.twimg.com/images/themes/theme1/bg.png', 'profile_background_tile': False, 'profile_image_url': 'http://pbs.twimg.com/profile_images/1144069483742416896/ZbrFG3WJ_normal.jpg', 'profile_image_url_https': 'https://pbs.twimg.com/profile_images/1144069483742416896/ZbrFG3WJ_normal.jpg', 'profile_banner_url': 'https://pbs.twimg.com/profile_banners/50461469/1561602396', 'profile_link_color': '0084B4', 'profile_sidebar_border_color': 'C0DEED', 'profile_sidebar_fill_color': 'DDEEF6', 'profile_text_color': '333333', 'profile_use_background_image': True, 'has_extended_profile': False, 'default_profile': False, 'default_profile_image': False, 'following': True, 'live_following': False, 'follow_request_sent': False, 'notifications': False, 'muting': False, 'blocking': False, 'blocked_by': False, 'translator_type': 'none'}, id=50461469, id_str='50461469', name='夏野 剛 Takeshi Natsuno', screen_name='tnatsu', location='', description='夏野剛です。早稲田出身なのに慶應SFCの特別招聘教授やってます。意図せず波瀾万丈な人生をおくることになってしまいました。少しでも世の中がよくなるようなことしたいと思ってます。よろしくお願い致します。', url='http://t.co/089wESUCvF', entities={'url': {'urls': [{'url': 'http://t.co/089wESUCvF', 'expanded_url': 'http://ch.nicovideo.jp/natsuno', 'display_url': 'ch.nicovideo.jp/natsuno', 'indices': [0, 22]}]}, 'description': {'urls': []}}, protected=False, followers_count=509793, friends_count=91, listed_count=8007, created_at=datetime.datetime(2009, 6, 24, 22, 21, 40), favourites_count=4, utc_offset=None, time_zone=None, geo_enabled=True, verified=True, statuses_count=19827, lang=None, status=Status(_api=<tweepy.api.API object at 0x7fd87fbd7f50>, _json={'created_at': 'Mon Oct 12 11:01:40 +0000 2020', 'id': 1315608568754655232, 'id_str': '1315608568754655232', 'text': '全員慶應じゃんwww。 https://t.co/xHxG5NyWdD', 'truncated': False, 'entities': {'hashtags': [], 'symbols': [], 'user_mentions': [], 'urls': [{'url': 'https://t.co/xHxG5NyWdD', 'expanded_url': 'https://twitter.com/chairtochair/status/1314884319886761991', 'display_url': 'twitter.com/chairtochair/s…', 'indices': [12, 35]}]}, 'source': '<a href=\"http://www.echofon.com/\" rel=\"nofollow\">Echofon</a>', 'in_reply_to_status_id': None, 'in_reply_to_status_id_str': None, 'in_reply_to_user_id': None, 'in_reply_to_user_id_str': None, 'in_reply_to_screen_name': None, 'geo': None, 'coordinates': None, 'place': None, 'contributors': None, 'is_quote_status': True, 'quoted_status_id': 1314869532700229632, 'quoted_status_id_str': '1314869532700229632', 'retweet_count': 16, 'favorite_count': 101, 'favorited': False, 'retweeted': False, 'possibly_sensitive': False, 'lang': 'ja'}, created_at=datetime.datetime(2020, 10, 12, 11, 1, 40), id=1315608568754655232, id_str='1315608568754655232', text='全員慶應じゃんwww。 https://t.co/xHxG5NyWdD', truncated=False, entities={'hashtags': [], 'symbols': [], 'user_mentions': [], 'urls': [{'url': 'https://t.co/xHxG5NyWdD', 'expanded_url': 'https://twitter.com/chairtochair/status/1314884319886761991', 'display_url': 'twitter.com/chairtochair/s…', 'indices': [12, 35]}]}, source='Echofon', source_url='http://www.echofon.com/', in_reply_to_status_id=None, in_reply_to_status_id_str=None, in_reply_to_user_id=None, in_reply_to_user_id_str=None, in_reply_to_screen_name=None, geo=None, coordinates=None, place=None, contributors=None, is_quote_status=True, quoted_status_id=1314869532700229632, quoted_status_id_str='1314869532700229632', retweet_count=16, favorite_count=101, favorited=False, retweeted=False, possibly_sensitive=False, lang='ja'), contributors_enabled=False, is_translator=False, is_translation_enabled=False, profile_background_color='C0DEED', profile_background_image_url='http://abs.twimg.com/images/themes/theme1/bg.png', profile_background_image_url_https='https://abs.twimg.com/images/themes/theme1/bg.png', profile_background_tile=False, profile_image_url='http://pbs.twimg.com/profile_images/1144069483742416896/ZbrFG3WJ_normal.jpg', profile_image_url_https='https://pbs.twimg.com/profile_images/1144069483742416896/ZbrFG3WJ_normal.jpg', profile_banner_url='https://pbs.twimg.com/profile_banners/50461469/1561602396', profile_link_color='0084B4', profile_sidebar_border_color='C0DEED', profile_sidebar_fill_color='DDEEF6', profile_text_color='333333', profile_use_background_image=True, has_extended_profile=False, default_profile=False, default_profile_image=False, following=True, live_following=False, follow_request_sent=False, notifications=False, muting=False, blocking=False, blocked_by=False, translator_type='none')"
      ]
     },
     "execution_count": 10,
     "metadata": {},
     "output_type": "execute_result"
    }
   ],
   "source": [
    "user"
   ]
  },
  {
   "cell_type": "code",
   "execution_count": 8,
   "metadata": {},
   "outputs": [],
   "source": [
    "search_word = '大学生'"
   ]
  },
  {
   "cell_type": "code",
   "execution_count": 9,
   "metadata": {},
   "outputs": [
    {
     "data": {
      "text/plain": [
       "False"
      ]
     },
     "execution_count": 9,
     "metadata": {},
     "output_type": "execute_result"
    }
   ],
   "source": [
    "search_word in user.description"
   ]
  },
  {
   "cell_type": "code",
   "execution_count": null,
   "metadata": {},
   "outputs": [],
   "source": []
  }
 ],
 "metadata": {
  "kernelspec": {
   "display_name": "Python 3",
   "language": "python",
   "name": "python3"
  },
  "language_info": {
   "codemirror_mode": {
    "name": "ipython",
    "version": 3
   },
   "file_extension": ".py",
   "mimetype": "text/x-python",
   "name": "python",
   "nbconvert_exporter": "python",
   "pygments_lexer": "ipython3",
   "version": "3.7.6"
  }
 },
 "nbformat": 4,
 "nbformat_minor": 4
}
